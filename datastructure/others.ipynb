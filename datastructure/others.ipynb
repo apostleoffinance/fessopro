{
 "cells": [
  {
   "cell_type": "code",
   "execution_count": 1,
   "id": "039b99e9",
   "metadata": {},
   "outputs": [
    {
     "data": {
      "text/plain": [
       "'mello'"
      ]
     },
     "execution_count": 1,
     "metadata": {},
     "output_type": "execute_result"
    }
   ],
   "source": [
    "'hello'.replace('h', 'm')"
   ]
  },
  {
   "cell_type": "code",
   "execution_count": 1,
   "id": "50b5134b",
   "metadata": {},
   "outputs": [
    {
     "data": {
      "text/plain": [
       "{'tsla': 64, 'amzn': 100, 'niffty': 67}"
      ]
     },
     "execution_count": 1,
     "metadata": {},
     "output_type": "execute_result"
    }
   ],
   "source": [
    "a = {'tsla':64, 'amzn':100}\n",
    "a.update({'niffty':67})\n",
    "a"
   ]
  },
  {
   "cell_type": "code",
   "execution_count": 2,
   "id": "f86117bf",
   "metadata": {},
   "outputs": [
    {
     "data": {
      "text/plain": [
       "67"
      ]
     },
     "execution_count": 2,
     "metadata": {},
     "output_type": "execute_result"
    }
   ],
   "source": [
    "a.get('niffty')"
   ]
  },
  {
   "cell_type": "code",
   "execution_count": 3,
   "id": "f24e387f",
   "metadata": {},
   "outputs": [
    {
     "data": {
      "text/plain": [
       "{'tsla': 64, 'niffty': 67}"
      ]
     },
     "execution_count": 3,
     "metadata": {},
     "output_type": "execute_result"
    }
   ],
   "source": [
    "a.pop(\"amzn\")\n",
    "a"
   ]
  },
  {
   "cell_type": "code",
   "execution_count": 9,
   "id": "e0618d0b",
   "metadata": {},
   "outputs": [
    {
     "data": {
      "text/plain": [
       "13"
      ]
     },
     "execution_count": 9,
     "metadata": {},
     "output_type": "execute_result"
    }
   ],
   "source": [
    "l2=[44,55,66,[67,57,46,[78,90,92,[12,13,14]]]]\n",
    "\n",
    "l2[3][3][3][1]"
   ]
  },
  {
   "cell_type": "code",
   "execution_count": 11,
   "id": "b6735adb",
   "metadata": {},
   "outputs": [
    {
     "data": {
      "text/plain": [
       "555"
      ]
     },
     "execution_count": 11,
     "metadata": {},
     "output_type": "execute_result"
    }
   ],
   "source": [
    "d1 = {\n",
    "    'tech':[333,444,555],\n",
    "    'fin':[66,77,88],\n",
    "    'gas':[89,67,45]\n",
    "}\n",
    "\n",
    "d1.get('tech')[2]\n"
   ]
  },
  {
   "cell_type": "code",
   "execution_count": 12,
   "id": "2581c76a",
   "metadata": {},
   "outputs": [],
   "source": [
    "hedge_fund_portfolio = {\n",
    "    \"fund_name\": \"Alpha Investments\",\n",
    "    \"portfolio_value\": 50000000,\n",
    "    \"investments\": [\n",
    "        {\n",
    "            \"type\": \"Equity\",\n",
    "            \"holdings\": [\n",
    "                {\"ticker\": \"AAPL\", \"quantity\": 10000, \"average_buy_price\": 120},\n",
    "                {\"ticker\": \"TSLA\", \"quantity\": 5000, \"average_buy_price\": 600}\n",
    "            ]\n",
    "        },\n",
    "        {\n",
    "            \"type\": \"Fixed Income\",\n",
    "            \"holdings\": [\n",
    "                {\"bond_issue\": \"US Treasuries\", \"amount\": 10000000, \"yield\": 1.5}\n",
    "            ]\n",
    "        },\n",
    "        {\n",
    "            \"type\": \"Derivatives\",\n",
    "            \"holdings\": [\n",
    "                {\"instrument\": \"Options\", \"details\": {\"underlying\": \"GOOGL\", \"type\": \"Call\", \"strike_price\": 1500}}\n",
    "            ]\n",
    "        }\n",
    "    ],\n",
    "    \"performance_metrics\": {\n",
    "        \"year_to_date_return\": 5.2,\n",
    "        \"five_year_annualized_return\": 7.1\n",
    "    }\n",
    "}"
   ]
  },
  {
   "cell_type": "code",
   "execution_count": 15,
   "id": "72f9d10f",
   "metadata": {},
   "outputs": [
    {
     "data": {
      "text/plain": [
       "int"
      ]
     },
     "execution_count": 15,
     "metadata": {},
     "output_type": "execute_result"
    }
   ],
   "source": [
    "type(hedge_fund_portfolio.get('portfolio_value'))"
   ]
  },
  {
   "cell_type": "code",
   "execution_count": 19,
   "id": "e1ed9691",
   "metadata": {},
   "outputs": [
    {
     "name": "stdout",
     "output_type": "stream",
     "text": [
      "600\n"
     ]
    },
    {
     "data": {
      "text/plain": [
       "int"
      ]
     },
     "execution_count": 19,
     "metadata": {},
     "output_type": "execute_result"
    }
   ],
   "source": [
    "a = hedge_fund_portfolio.get('investments')[0].get('holdings')[1].get('average_buy_price')\n",
    "print(a)\n",
    "type(a)"
   ]
  },
  {
   "cell_type": "code",
   "execution_count": null,
   "id": "ad75e2d7",
   "metadata": {},
   "outputs": [
    {
     "name": "stdout",
     "output_type": "stream",
     "text": [
      "[{'type': 'Equity', 'holdings': [{'ticker': 'AAPL', 'quantity': 10000, 'average_buy_price': 120}, {'ticker': 'TSLA', 'quantity': 5000, 'average_buy_price': 600}]}, {'type': 'Fixed Income', 'holdings': [{'bond_issue': 'US Treasuries', 'amount': 10000000, 'yield': 1.5}]}, {'type': 'Derivatives', 'holdings': [{'instrument': 'Options', 'details': {'underlying': 'GOOGL', 'type': 'Call', 'strike_price': 1500}}]}]\n"
     ]
    }
   ],
   "source": [
    "a = hedge_fund_portfolio.get('investments')[]\n",
    "print(a)"
   ]
  },
  {
   "cell_type": "code",
   "execution_count": 21,
   "id": "c6a1ab5e",
   "metadata": {},
   "outputs": [],
   "source": [
    "credit_risk_profiles = {\n",
    "    \"individuals\": [\n",
    "        {\n",
    "            \"name\": \"John Doe\",\n",
    "            \"credit_score\": 750,\n",
    "            \"outstanding_loans\": {\n",
    "                \"auto_loan\": {\"amount\": 20000, \"interest_rate\": 3.5},\n",
    "                \"home_loan\": {\"amount\": 150000, \"interest_rate\": 2.8}\n",
    "            },\n",
    "            \"payment_history\": [(\"2024-01-10\", \"On Time\"), (\"2024-01-01\", \"Late\")]\n",
    "        },\n",
    "        {\n",
    "            \"name\": \"Jane Smith\",\n",
    "            \"credit_score\": 680,\n",
    "            \"outstanding_loans\": {\n",
    "                \"credit_card\": {\"amount\": 5000, \"interest_rate\": 12.0}\n",
    "            },\n",
    "            \"payment_history\": [(\"2024-01-10\", \"On Time\")]\n",
    "        }\n",
    "    ]\n",
    "}"
   ]
  },
  {
   "cell_type": "code",
   "execution_count": 31,
   "id": "bb329e3e",
   "metadata": {},
   "outputs": [
    {
     "name": "stdout",
     "output_type": "stream",
     "text": [
      "12.0\n"
     ]
    },
    {
     "data": {
      "text/plain": [
       "float"
      ]
     },
     "execution_count": 31,
     "metadata": {},
     "output_type": "execute_result"
    }
   ],
   "source": [
    "a = credit_risk_profiles.get('individuals')[1].get(\"outstanding_loans\").get(\"credit_card\").get(\"interest_rate\") #[1]\n",
    "\n",
    "print(a)\n",
    "type(a)"
   ]
  },
  {
   "cell_type": "code",
   "execution_count": 32,
   "id": "fcd8eb33",
   "metadata": {},
   "outputs": [],
   "source": [
    "foreign_exchange = {\n",
    "    \"base_currency\": \"USD\",\n",
    "    \"exchange_rates\": {\n",
    "        \"EUR\": {\n",
    "            \"current_rate\": 0.85,\n",
    "            \"historical_rates\": [\n",
    "                {\"date\": \"2024-01-10\", \"rate\": 0.84},\n",
    "                {\"date\": \"2024-01-09\", \"rate\": 0.85}\n",
    "            ]\n",
    "        },\n",
    "        \"JPY\": {\n",
    "            \"current_rate\": 110.00,\n",
    "            \"historical_rates\": [\n",
    "                {\"date\": \"2024-01-10\", \"rate\": 109.50},\n",
    "                {\"date\": \"2024-01-09\", \"rate\": 110.20}\n",
    "            ]\n",
    "        }\n",
    "    }\n",
    "}\n"
   ]
  },
  {
   "cell_type": "code",
   "execution_count": 39,
   "id": "16ddbf0c",
   "metadata": {},
   "outputs": [
    {
     "name": "stdout",
     "output_type": "stream",
     "text": [
      "110.2\n"
     ]
    },
    {
     "data": {
      "text/plain": [
       "float"
      ]
     },
     "execution_count": 39,
     "metadata": {},
     "output_type": "execute_result"
    }
   ],
   "source": [
    "x = foreign_exchange.get(\"exchange_rates\").get(\"JPY\").get(\"historical_rates\")[1].get(\"rate\")\n",
    "print(x)\n",
    "type(x)"
   ]
  },
  {
   "cell_type": "code",
   "execution_count": null,
   "id": "e86f37d2",
   "metadata": {},
   "outputs": [
    {
     "name": "stdout",
     "output_type": "stream",
     "text": [
      "2024-01-09\n"
     ]
    }
   ],
   "source": [
    "y = foreign_exchange.get(\"exchange_rates\").get(\"EUR\").get(\"historical_rates\")[1].get(\"date\")\n",
    "\n",
    "print(y)"
   ]
  },
  {
   "cell_type": "code",
   "execution_count": 48,
   "id": "533b203e",
   "metadata": {},
   "outputs": [
    {
     "name": "stdout",
     "output_type": "stream",
     "text": [
      "38.9\n"
     ]
    }
   ],
   "source": [
    "p = [2.4,3.5,4.6,5.7,6.8,7.9,8.0]\n",
    "\n",
    "total = 0\n",
    "\n",
    "for i in p:\n",
    "    total = total + i\n",
    "print(total)\n"
   ]
  },
  {
   "cell_type": "code",
   "execution_count": 49,
   "id": "67769046",
   "metadata": {},
   "outputs": [
    {
     "name": "stdout",
     "output_type": "stream",
     "text": [
      "5.557142857142857\n"
     ]
    }
   ],
   "source": [
    "num = len(p)\n",
    "avg = total / num\n",
    "print(avg)"
   ]
  },
  {
   "cell_type": "code",
   "execution_count": 50,
   "id": "478d13fb",
   "metadata": {},
   "outputs": [
    {
     "name": "stdout",
     "output_type": "stream",
     "text": [
      "6.0\n"
     ]
    }
   ],
   "source": [
    "l2 = (4,5,6,7,8)\n",
    "t=0\n",
    "\n",
    "for m1 in l2:\n",
    "    t = t + m1\n",
    "\n",
    "print(t/len(l2))"
   ]
  },
  {
   "cell_type": "code",
   "execution_count": 52,
   "id": "bed1610c",
   "metadata": {},
   "outputs": [
    {
     "name": "stdout",
     "output_type": "stream",
     "text": [
      "0\n",
      "1\n",
      "2\n",
      "3\n",
      "4\n",
      "5\n",
      "6\n",
      "7\n",
      "8\n",
      "9\n"
     ]
    }
   ],
   "source": [
    "for i in range(10):\n",
    "    print(i)"
   ]
  },
  {
   "cell_type": "code",
   "execution_count": 53,
   "id": "9fdde365",
   "metadata": {},
   "outputs": [
    {
     "name": "stdout",
     "output_type": "stream",
     "text": [
      "[0, 2, 4, 6, 8]\n"
     ]
    }
   ],
   "source": [
    "l2 = []\n",
    "\n",
    "for i in range(10):\n",
    "    if i % 2 == 0:\n",
    "        l2.append(i)\n",
    "\n",
    "print(l2)"
   ]
  },
  {
   "cell_type": "code",
   "execution_count": 55,
   "id": "13bc3eaa",
   "metadata": {},
   "outputs": [
    {
     "name": "stdout",
     "output_type": "stream",
     "text": [
      "2.4\n",
      "3.5\n",
      "4.6\n",
      "5.7\n",
      "6.8\n",
      "7.9\n",
      "8.0\n"
     ]
    }
   ],
   "source": [
    "p = [2.4,3.5,4.6,5.7,6.8,7.9,8.0]\n",
    "for i in range(len(p)):\n",
    "    print(p[i])"
   ]
  },
  {
   "cell_type": "code",
   "execution_count": null,
   "id": "0b1e1e66",
   "metadata": {},
   "outputs": [
    {
     "name": "stdout",
     "output_type": "stream",
     "text": [
      "67\n"
     ]
    },
    {
     "data": {
      "text/plain": [
       "105.76923076923077"
      ]
     },
     "execution_count": 57,
     "metadata": {},
     "output_type": "execute_result"
    }
   ],
   "source": [
    "l1 = [4,2,6,7,55,45,67]\n",
    "\n",
    "largest = l1[0]\n",
    "\n",
    "for i in (l1):\n",
    "    if i > largest:\n",
    "        largest = i\n",
    "print(largest)\n",
    "\n",
    "Prices = [100, 105, 110]\n",
    "Volumes = [200, 150, 300]\n",
    "\n"
   ]
  },
  {
   "cell_type": "code",
   "execution_count": null,
   "id": "b50111fe",
   "metadata": {},
   "outputs": [
    {
     "name": "stdout",
     "output_type": "stream",
     "text": [
      "65\n"
     ]
    }
   ],
   "source": [
    "t = [20, -10,15,-5,30]\n",
    "\n",
    "# How many positive trades are there?\n",
    "\n",
    "profit = 0\n",
    "\n",
    "for i in t:\n",
    "    if i > 0:\n",
    "        profit += i\n",
    "print(profit)"
   ]
  },
  {
   "cell_type": "code",
   "execution_count": 1,
   "id": "b94cc634",
   "metadata": {},
   "outputs": [
    {
     "data": {
      "text/plain": [
       "0"
      ]
     },
     "execution_count": 1,
     "metadata": {},
     "output_type": "execute_result"
    }
   ],
   "source": [
    "i = 0\n",
    "while i in range(100):\n",
    "    if i % 2 == 0:\n",
    "        break\n",
    "        print(i)\n",
    "        i += 1\n",
    "\n",
    "i"
   ]
  },
  {
   "cell_type": "code",
   "execution_count": 2,
   "id": "c04a913c",
   "metadata": {},
   "outputs": [
    {
     "name": "stdout",
     "output_type": "stream",
     "text": [
      "1\n",
      "3\n",
      "5\n",
      "7\n",
      "9\n",
      "11\n",
      "13\n",
      "15\n",
      "17\n",
      "19\n",
      "21\n",
      "23\n",
      "25\n",
      "27\n",
      "29\n",
      "31\n",
      "33\n",
      "35\n",
      "37\n",
      "39\n",
      "41\n",
      "43\n",
      "45\n",
      "47\n",
      "49\n",
      "51\n",
      "53\n",
      "55\n",
      "57\n",
      "59\n",
      "61\n",
      "63\n",
      "65\n",
      "67\n",
      "69\n",
      "71\n",
      "73\n",
      "75\n",
      "77\n",
      "79\n",
      "81\n",
      "83\n",
      "85\n",
      "87\n",
      "89\n",
      "91\n",
      "93\n",
      "95\n",
      "97\n",
      "99\n",
      "last line\n"
     ]
    }
   ],
   "source": [
    "num=1\n",
    "\n",
    "while True:\n",
    "    if num==101:\n",
    "        break\n",
    "    print(num)\n",
    "    num=num+2\n",
    "\n",
    "print('last line')"
   ]
  },
  {
   "cell_type": "code",
   "execution_count": 2,
   "id": "b7dad459",
   "metadata": {},
   "outputs": [
    {
     "name": "stdout",
     "output_type": "stream",
     "text": [
      "[]\n"
     ]
    }
   ],
   "source": [
    "\n",
    "\n",
    "stock_prices={'tsla':700,'goog':900,'amzn':680,'nvda':567}\n",
    "portfolio=[]\n",
    "while True:\n",
    "    name=input('enter the stock name (q to quit)')\n",
    "    if name.upper()=='Q':\n",
    "        break\n",
    "    if name=='nvda' :\n",
    "        print('you cannot trade this stock try something else')\n",
    "        continue\n",
    "    \n",
    "    found=stock_prices.get(name)\n",
    "    if found:\n",
    "        portfolio.append(name)\n",
    "    else:\n",
    "        print('this stock name is invalid type again')\n",
    "print(portfolio)"
   ]
  },
  {
   "cell_type": "code",
   "execution_count": null,
   "id": "b71b99a8",
   "metadata": {},
   "outputs": [],
   "source": []
  }
 ],
 "metadata": {
  "kernelspec": {
   "display_name": "fesso-algo",
   "language": "python",
   "name": "python3"
  },
  "language_info": {
   "codemirror_mode": {
    "name": "ipython",
    "version": 3
   },
   "file_extension": ".py",
   "mimetype": "text/x-python",
   "name": "python",
   "nbconvert_exporter": "python",
   "pygments_lexer": "ipython3",
   "version": "3.12.3"
  }
 },
 "nbformat": 4,
 "nbformat_minor": 5
}
