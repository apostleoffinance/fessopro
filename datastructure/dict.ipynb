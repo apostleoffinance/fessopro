{
 "cells": [
  {
   "cell_type": "code",
   "execution_count": 1,
   "id": "fb8e5afe",
   "metadata": {},
   "outputs": [
    {
     "data": {
      "text/plain": [
       "{'amzn': 500, 'tsla': 900, 'goog': 780}"
      ]
     },
     "execution_count": 1,
     "metadata": {},
     "output_type": "execute_result"
    }
   ],
   "source": [
    "stock_prices = {'amzn':500, 'tsla':900, 'goog':780}\n",
    "stock_prices"
   ]
  },
  {
   "cell_type": "markdown",
   "id": "c964d058",
   "metadata": {},
   "source": [
    "- If you want to access value you have to use key\n",
    "- We don't have the concept of index in dict\n",
    "- You cannnot have two element with the same key but you can have two elements with the same value\n"
   ]
  },
  {
   "cell_type": "code",
   "execution_count": 2,
   "id": "2ea0258c",
   "metadata": {},
   "outputs": [
    {
     "data": {
      "text/plain": [
       "500"
      ]
     },
     "execution_count": 2,
     "metadata": {},
     "output_type": "execute_result"
    }
   ],
   "source": [
    "stock_prices.get('amzn')"
   ]
  },
  {
   "cell_type": "markdown",
   "id": "d3eafd5a",
   "metadata": {},
   "source": [
    "### Add new element to a Dict"
   ]
  },
  {
   "cell_type": "code",
   "execution_count": 3,
   "id": "ddf063a5",
   "metadata": {},
   "outputs": [],
   "source": [
    "stock_prices.update({'nifty':700})"
   ]
  },
  {
   "cell_type": "code",
   "execution_count": 4,
   "id": "9db037e4",
   "metadata": {},
   "outputs": [
    {
     "data": {
      "text/plain": [
       "{'amzn': 500, 'tsla': 900, 'goog': 780, 'nifty': 700}"
      ]
     },
     "execution_count": 4,
     "metadata": {},
     "output_type": "execute_result"
    }
   ],
   "source": [
    "stock_prices"
   ]
  },
  {
   "cell_type": "code",
   "execution_count": 5,
   "id": "e056c7bb",
   "metadata": {},
   "outputs": [
    {
     "data": {
      "text/plain": [
       "700"
      ]
     },
     "execution_count": 5,
     "metadata": {},
     "output_type": "execute_result"
    }
   ],
   "source": [
    "stock_prices.pop('nifty')"
   ]
  },
  {
   "cell_type": "code",
   "execution_count": 6,
   "id": "2ccb5ea8",
   "metadata": {},
   "outputs": [
    {
     "data": {
      "text/plain": [
       "{'amzn': 500, 'tsla': 900, 'goog': 780}"
      ]
     },
     "execution_count": 6,
     "metadata": {},
     "output_type": "execute_result"
    }
   ],
   "source": [
    "stock_prices"
   ]
  },
  {
   "cell_type": "code",
   "execution_count": 7,
   "id": "721b9374",
   "metadata": {},
   "outputs": [
    {
     "data": {
      "text/plain": [
       "900"
      ]
     },
     "execution_count": 7,
     "metadata": {},
     "output_type": "execute_result"
    }
   ],
   "source": [
    "stock_prices[\"tsla\"]"
   ]
  },
  {
   "cell_type": "code",
   "execution_count": 9,
   "id": "db4b3507",
   "metadata": {},
   "outputs": [
    {
     "data": {
      "text/plain": [
       "900"
      ]
     },
     "execution_count": 9,
     "metadata": {},
     "output_type": "execute_result"
    }
   ],
   "source": [
    "stock_prices.get(\"tsla\")"
   ]
  },
  {
   "cell_type": "code",
   "execution_count": 11,
   "id": "33c54069",
   "metadata": {},
   "outputs": [
    {
     "name": "stdout",
     "output_type": "stream",
     "text": [
      "['hello', 'world']\n"
     ]
    }
   ],
   "source": [
    "a = 'hello-world'\n",
    "print(a.split(\"-\"))"
   ]
  },
  {
   "cell_type": "code",
   "execution_count": 13,
   "id": "55879a8e",
   "metadata": {},
   "outputs": [
    {
     "name": "stdout",
     "output_type": "stream",
     "text": [
      "['a', 'b', 'c', 'd', 'f', 'e']\n"
     ]
    }
   ],
   "source": [
    "b = 'a b c d f e'\n",
    "print(b.split(' '))"
   ]
  },
  {
   "cell_type": "code",
   "execution_count": 14,
   "id": "2f5eb137",
   "metadata": {},
   "outputs": [
    {
     "name": "stdout",
     "output_type": "stream",
     "text": [
      "tsla-amzn-goog\n"
     ]
    }
   ],
   "source": [
    "l = ['tsla', 'amzn', 'goog']\n",
    "n = \"-\".join(l)\n",
    "print(n)"
   ]
  },
  {
   "cell_type": "code",
   "execution_count": null,
   "id": "fb9e05ce",
   "metadata": {},
   "outputs": [],
   "source": []
  }
 ],
 "metadata": {
  "kernelspec": {
   "display_name": "fesso-algo",
   "language": "python",
   "name": "python3"
  },
  "language_info": {
   "codemirror_mode": {
    "name": "ipython",
    "version": 3
   },
   "file_extension": ".py",
   "mimetype": "text/x-python",
   "name": "python",
   "nbconvert_exporter": "python",
   "pygments_lexer": "ipython3",
   "version": "3.12.3"
  }
 },
 "nbformat": 4,
 "nbformat_minor": 5
}
