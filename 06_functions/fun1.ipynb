{
 "cells": [
  {
   "cell_type": "markdown",
   "id": "88c4e5f7",
   "metadata": {},
   "source": [
    "# Parameter , Argument"
   ]
  },
  {
   "cell_type": "code",
   "execution_count": null,
   "id": "9f43de0f",
   "metadata": {},
   "outputs": [
    {
     "name": "stdout",
     "output_type": "stream",
     "text": [
      "39.8\n"
     ]
    }
   ],
   "source": [
    "\n",
    "\n",
    "def average(numbers):\n",
    "\n",
    "    total=0\n",
    "    for i in numbers:\n",
    "        total=total+i\n",
    "    avg = total/len(numbers)\n",
    "\n",
    "    return avg\n",
    "\n",
    "prices = [1,33,44,55,66]\n",
    "avg = average(prices)\n",
    "print(avg)"
   ]
  },
  {
   "cell_type": "code",
   "execution_count": 2,
   "id": "82bc51a1",
   "metadata": {},
   "outputs": [
    {
     "name": "stdout",
     "output_type": "stream",
     "text": [
      "[1, 1, 2, 3, 5, 8, 13, 21, 34, 55]\n",
      "30\n",
      "hello\n",
      "hello\n",
      "hello\n",
      "hello\n",
      "hello\n"
     ]
    }
   ],
   "source": [
    "def get_fib(number):\n",
    "\n",
    "    list1=[1,1]\n",
    "    num1=list1[0]\n",
    "    num2=list1[1]\n",
    "    for i in range(number-2):\n",
    "        num3=num1+num2\n",
    "        list1.append(num3)\n",
    "        num1=num2\n",
    "        num2=num3\n",
    "    \n",
    "    return list1\n",
    "\n",
    "l=get_fib(10)\n",
    "print(l)\n",
    "\n",
    "def add_value(num1,num2):\n",
    "    return num1+num2\n",
    "\n",
    "a=add_value(10,20)\n",
    "print(a)\n",
    "\n",
    "def print_hello():\n",
    "    for i in range(5):\n",
    "        print('hello')\n",
    "\n",
    "print_hello()"
   ]
  },
  {
   "cell_type": "code",
   "execution_count": 3,
   "id": "50ba8125",
   "metadata": {},
   "outputs": [
    {
     "name": "stdout",
     "output_type": "stream",
     "text": [
      "39.8\n",
      "[1, 1, 2, 3, 5, 8, 13, 21, 34, 55]\n"
     ]
    }
   ],
   "source": [
    "#parameter ,argument\n",
    "\n",
    "def average(numbers:list)->int:\n",
    "    \"\"\"\n",
    "    this function will calc avg value\n",
    "    \"\"\"\n",
    "\n",
    "    total=0\n",
    "    for i in numbers:\n",
    "        total=total+i\n",
    "    avg=total/len(numbers)\n",
    "\n",
    "\n",
    "    return avg\n",
    "\n",
    "prices=[1,33,44,55,66]\n",
    "avg=average(prices)\n",
    "print(avg)\n",
    "\n",
    "\n",
    "def get_fib(number:int)->list:\n",
    "    \"\"\"\n",
    "    this func will return fib numbers\n",
    "    \"\"\"\n",
    "\n",
    "    list1=[1,1]\n",
    "    num1=list1[0]\n",
    "    num2=list1[1]\n",
    "    for i in range(number-2):\n",
    "        num3=num1+num2\n",
    "        list1.append(num3)\n",
    "        num1=num2\n",
    "        num2=num3\n",
    "    \n",
    "    return list1\n",
    "\n",
    "l=get_fib(10)\n",
    "print(l)\n",
    "\n",
    "\n"
   ]
  },
  {
   "cell_type": "code",
   "execution_count": 5,
   "id": "8475673e",
   "metadata": {},
   "outputs": [
    {
     "name": "stdout",
     "output_type": "stream",
     "text": [
      "30\n",
      "hello\n",
      "hello\n",
      "hello\n",
      "hello\n",
      "hello\n"
     ]
    }
   ],
   "source": [
    "def add_value(num1:int,num2:int)->int:\n",
    "    return num1+num2\n",
    "\n",
    "a=add_value(10,20)\n",
    "print(a)\n",
    "\n",
    "def print_hello():\n",
    "    for i in range(5):\n",
    "        print('hello')\n",
    "\n",
    "print_hello()\n",
    "\n",
    "\n",
    "#'hello'.replace()\n"
   ]
  },
  {
   "cell_type": "code",
   "execution_count": 6,
   "id": "70fbc123",
   "metadata": {},
   "outputs": [
    {
     "name": "stdout",
     "output_type": "stream",
     "text": [
      "this stock name is invalid type again\n",
      "['tsla', 'goog']\n"
     ]
    }
   ],
   "source": [
    "stock_prices={'tsla':700,'goog':900,'amzn':680,'nvda':567}\n",
    "portfolio=[]\n",
    "while True:\n",
    "    name=input('enter the stock name (q to quit)')\n",
    "    if name.upper()=='Q':\n",
    "        break\n",
    "    if name=='nvda':\n",
    "        print('you cannot trade this stock try something else')\n",
    "        continue\n",
    "\n",
    "    found=stock_prices.get(name)\n",
    "    if found:\n",
    "        portfolio.append(name)\n",
    "    else:\n",
    "        print('this stock name is invalid type again')\n",
    "print(portfolio)"
   ]
  },
  {
   "cell_type": "code",
   "execution_count": null,
   "id": "8a89cf50",
   "metadata": {},
   "outputs": [
    {
     "name": "stdout",
     "output_type": "stream",
     "text": [
      "you cannot trade this stock try something else\n",
      "this stock name is invalid type again\n",
      "this stock name is invalid type again\n",
      "['tsla', 'goog']\n"
     ]
    }
   ],
   "source": [
    "def get_stock(stock_prices:dict)->list:\n",
    "    \"\"\"\n",
    "    this function will take input for stocks \n",
    "    and return portfolio list\n",
    "    \"\"\"\n",
    "\n",
    "    portfolio=[]\n",
    "    while True:\n",
    "        name=input('enter the stock name (q to quit)')\n",
    "        if name.upper()=='Q':\n",
    "            break\n",
    "        if name=='nvda':\n",
    "            print('you cannot trade this stock try something else')\n",
    "            continue\n",
    "\n",
    "        found=stock_prices.get(name)\n",
    "        if found:\n",
    "            portfolio.append(name)\n",
    "        else:\n",
    "            print('this stock name is invalid type again')\n",
    "    return portfolio\n",
    "\n",
    "\n",
    "stock_prices={'tsla':700,'goog':900,'amzn':680,'nvda':567}\n",
    "x = get_stock(stock_prices)\n",
    "print(x)"
   ]
  },
  {
   "cell_type": "code",
   "execution_count": 3,
   "id": "d4324179",
   "metadata": {},
   "outputs": [
    {
     "name": "stdout",
     "output_type": "stream",
     "text": [
      "hello\n",
      "[-1, -2, -3]\n",
      "[33, 22, 11]\n"
     ]
    }
   ],
   "source": [
    "l = ['a','b','c','d','e']\n",
    "\n",
    "def rev_list(list1:list)->list:\n",
    "    \n",
    "    end=-(len(list1)+1)\n",
    "    l=range(-1,end,-1)\n",
    "    print(list(l))\n",
    "    ans=[]\n",
    "    for i in l:\n",
    "        ans.append(list1[i])\n",
    "    return ans\n",
    "\n",
    "print('hello')\n",
    "a=rev_list([11,22,33])\n",
    "print(a)"
   ]
  },
  {
   "cell_type": "code",
   "execution_count": 4,
   "id": "9056e067",
   "metadata": {},
   "outputs": [
    {
     "name": "stdout",
     "output_type": "stream",
     "text": [
      "[-1, -2, -3, -4, -5]\n",
      "linus\n"
     ]
    }
   ],
   "source": [
    "def rev_string(word:str)->str:\n",
    "\n",
    "    end=-(len(word)+1)\n",
    "    l=range(-1,end,-1)\n",
    "    print(list(l))\n",
    "    ans=\"\"\n",
    "    for i in l:\n",
    "        ans=ans+word[i]\n",
    "    return ans\n",
    "a = rev_string('sunil')\n",
    "print(a)\n",
    "\n"
   ]
  },
  {
   "cell_type": "code",
   "execution_count": null,
   "id": "d7a4e026",
   "metadata": {},
   "outputs": [],
   "source": []
  }
 ],
 "metadata": {
  "kernelspec": {
   "display_name": "fesso-algo",
   "language": "python",
   "name": "python3"
  },
  "language_info": {
   "codemirror_mode": {
    "name": "ipython",
    "version": 3
   },
   "file_extension": ".py",
   "mimetype": "text/x-python",
   "name": "python",
   "nbconvert_exporter": "python",
   "pygments_lexer": "ipython3",
   "version": "3.12.3"
  }
 },
 "nbformat": 4,
 "nbformat_minor": 5
}
