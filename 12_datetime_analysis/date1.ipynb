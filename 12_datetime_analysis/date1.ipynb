{
 "cells": [
  {
   "cell_type": "code",
   "execution_count": null,
   "id": "67cd8abd",
   "metadata": {},
   "outputs": [
    {
     "name": "stdout",
     "output_type": "stream",
     "text": [
      "2025-01-01\n",
      "11:15:15\n",
      "2\n",
      "2025-01-03 11:15:15\n"
     ]
    }
   ],
   "source": [
    "date = '2024-01-01'\n",
    "\n",
    "import datetime as dt \n",
    "\n",
    "#date\n",
    "#time\n",
    "#datetime\n",
    "\n",
    "d1=dt.date(2025,1,1)\n",
    "print(d1)\n",
    "\n",
    "t1=dt.time(11,15,15)\n",
    "print(t1)\n",
    "\n",
    "\n",
    "dt1 = dt.datetime(2025,1,1,11,15,15)\n",
    "print(dt1.weekday())\n",
    "\n",
    "#0 mon\n",
    "#1 tue\n",
    "#2 wed\n",
    "#6 sun\n",
    "\n",
    "i1=dt.timedelta(days=2)\n",
    "print(dt1+i1)"
   ]
  },
  {
   "cell_type": "code",
   "execution_count": 5,
   "id": "a2d15031",
   "metadata": {},
   "outputs": [
    {
     "name": "stdout",
     "output_type": "stream",
     "text": [
      "2025-01-01 11:17:15\n"
     ]
    }
   ],
   "source": [
    "i2=dt.timedelta(minutes=2)\n",
    "print(dt1+i2)\n"
   ]
  },
  {
   "cell_type": "code",
   "execution_count": 7,
   "id": "98aaa104",
   "metadata": {},
   "outputs": [
    {
     "name": "stdout",
     "output_type": "stream",
     "text": [
      "2025-07-19 12:36:15.860581\n",
      "2025-07-19 12:36:16.866293\n",
      "2025-07-19 12:36:17.867702\n",
      "2025-07-19 12:36:18.891032\n",
      "2025-07-19 12:36:19.893807\n",
      "2025-07-19 12:36:20.898891\n"
     ]
    },
    {
     "ename": "KeyboardInterrupt",
     "evalue": "",
     "output_type": "error",
     "traceback": [
      "\u001b[31m---------------------------------------------------------------------------\u001b[39m",
      "\u001b[31mKeyboardInterrupt\u001b[39m                         Traceback (most recent call last)",
      "\u001b[36mCell\u001b[39m\u001b[36m \u001b[39m\u001b[32mIn[7]\u001b[39m\u001b[32m, line 10\u001b[39m\n\u001b[32m      8\u001b[39m \u001b[38;5;28;01mif\u001b[39;00m dt1.second==\u001b[32m1\u001b[39m \u001b[38;5;129;01mand\u001b[39;00m dt1.minute \u001b[38;5;129;01min\u001b[39;00m \u001b[38;5;28mrange\u001b[39m(\u001b[32m0\u001b[39m,\u001b[32m50\u001b[39m,\u001b[32m5\u001b[39m):\n\u001b[32m      9\u001b[39m     main_strategy()\n\u001b[32m---> \u001b[39m\u001b[32m10\u001b[39m \u001b[43mtime\u001b[49m\u001b[43m.\u001b[49m\u001b[43msleep\u001b[49m\u001b[43m(\u001b[49m\u001b[32;43m1\u001b[39;49m\u001b[43m)\u001b[49m\n",
      "\u001b[31mKeyboardInterrupt\u001b[39m: "
     ]
    }
   ],
   "source": [
    "def main_strategy():\n",
    "    print('running main strategy')\n",
    "\n",
    "import time\n",
    "while True:\n",
    "    dt1=dt.datetime.now()\n",
    "    print(dt1)\n",
    "    if dt1.second==1 and dt1.minute in range(0,50,5):\n",
    "        main_strategy()\n",
    "    time.sleep(1)"
   ]
  },
  {
   "cell_type": "code",
   "execution_count": null,
   "id": "01876f71",
   "metadata": {},
   "outputs": [],
   "source": []
  }
 ],
 "metadata": {
  "kernelspec": {
   "display_name": "fesso-algo",
   "language": "python",
   "name": "python3"
  },
  "language_info": {
   "codemirror_mode": {
    "name": "ipython",
    "version": 3
   },
   "file_extension": ".py",
   "mimetype": "text/x-python",
   "name": "python",
   "nbconvert_exporter": "python",
   "pygments_lexer": "ipython3",
   "version": "3.12.3"
  }
 },
 "nbformat": 4,
 "nbformat_minor": 5
}
