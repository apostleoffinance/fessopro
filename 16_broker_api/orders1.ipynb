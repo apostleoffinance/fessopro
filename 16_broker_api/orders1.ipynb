{
 "cells": [
  {
   "cell_type": "code",
   "execution_count": 1,
   "id": "6e341dda",
   "metadata": {},
   "outputs": [],
   "source": [
    "from alpaca.trading.client import TradingClient\n",
    "from dotenv import load_dotenv\n",
    "import os\n",
    "\n",
    "# Load environment variables from .env file\n",
    "load_dotenv()\n",
    "\n",
    "# Fetch keys from environment\n",
    "api_key = os.getenv(\"API_KEY\")\n",
    "secret_key = os.getenv(\"SECRET_KEY\")\n",
    "\n",
    "# Connect to Alpaca (set paper=True for paper trading, paper=False for live crypto trading)\n",
    "trading_client = TradingClient(api_key, secret_key, paper=True)\n",
    "\n",
    "# Get account details\n",
    "# account = trading_client.get_account()\n",
    "# print(account)\n"
   ]
  },
  {
   "cell_type": "markdown",
   "id": "a79ce359",
   "metadata": {},
   "source": [
    "### Market Order Stocks"
   ]
  },
  {
   "cell_type": "code",
   "execution_count": 2,
   "id": "99cdb62f",
   "metadata": {},
   "outputs": [
    {
     "data": {
      "text/plain": [
       "{   'asset_class': <AssetClass.US_EQUITY: 'us_equity'>,\n",
       "    'asset_id': UUID('e3047683-637a-4fb2-b71d-805cd6fec95d'),\n",
       "    'canceled_at': None,\n",
       "    'client_order_id': '91716184-f69b-4022-8b7d-ea26f036b550',\n",
       "    'created_at': datetime.datetime(2025, 8, 21, 0, 31, 14, 983253, tzinfo=TzInfo(UTC)),\n",
       "    'expired_at': None,\n",
       "    'expires_at': datetime.datetime(2025, 8, 21, 20, 0, tzinfo=TzInfo(UTC)),\n",
       "    'extended_hours': False,\n",
       "    'failed_at': None,\n",
       "    'filled_at': None,\n",
       "    'filled_avg_price': None,\n",
       "    'filled_qty': '0',\n",
       "    'hwm': None,\n",
       "    'id': UUID('44b6fbcb-c305-46a1-8825-4f6ea863652b'),\n",
       "    'legs': None,\n",
       "    'limit_price': None,\n",
       "    'notional': None,\n",
       "    'order_class': <OrderClass.SIMPLE: 'simple'>,\n",
       "    'order_type': <OrderType.MARKET: 'market'>,\n",
       "    'position_intent': <PositionIntent.BUY_TO_OPEN: 'buy_to_open'>,\n",
       "    'qty': '1',\n",
       "    'ratio_qty': None,\n",
       "    'replaced_at': None,\n",
       "    'replaced_by': None,\n",
       "    'replaces': None,\n",
       "    'side': <OrderSide.BUY: 'buy'>,\n",
       "    'status': <OrderStatus.ACCEPTED: 'accepted'>,\n",
       "    'stop_price': None,\n",
       "    'submitted_at': datetime.datetime(2025, 8, 21, 0, 31, 14, 983253, tzinfo=TzInfo(UTC)),\n",
       "    'symbol': 'JPM',\n",
       "    'time_in_force': <TimeInForce.DAY: 'day'>,\n",
       "    'trail_percent': None,\n",
       "    'trail_price': None,\n",
       "    'type': <OrderType.MARKET: 'market'>,\n",
       "    'updated_at': datetime.datetime(2025, 8, 21, 0, 31, 15, 18887, tzinfo=TzInfo(UTC))}"
      ]
     },
     "execution_count": 2,
     "metadata": {},
     "output_type": "execute_result"
    }
   ],
   "source": [
    "from alpaca.trading.requests import MarketOrderRequest\n",
    "from alpaca.trading.enums import OrderSide, TimeInForce\n",
    "# preparing orders\n",
    "symbol='JPM'\n",
    "market_order_data = MarketOrderRequest(\n",
    "                    symbol=symbol,\n",
    "                    qty=1,\n",
    "                    side=OrderSide.BUY,\n",
    "                    time_in_force=TimeInForce.DAY\n",
    "                    )\n",
    "\n",
    "# Market order\n",
    "market_order = trading_client.submit_order(\n",
    "                order_data=market_order_data\n",
    "               )\n",
    "market_order"
   ]
  },
  {
   "cell_type": "markdown",
   "id": "5ea9983c",
   "metadata": {},
   "source": [
    "### Market Order for Crypto"
   ]
  },
  {
   "cell_type": "code",
   "execution_count": 3,
   "id": "679e37ef",
   "metadata": {},
   "outputs": [
    {
     "data": {
      "text/plain": [
       "{   'asset_class': <AssetClass.CRYPTO: 'crypto'>,\n",
       "    'asset_id': UUID('9226ef75-ba41-4a4b-a1b4-96e1a1b818f0'),\n",
       "    'canceled_at': None,\n",
       "    'client_order_id': '72587f0b-7f40-4edf-8bc2-dc96cec394ac',\n",
       "    'created_at': datetime.datetime(2025, 8, 21, 0, 32, 9, 254451, tzinfo=TzInfo(UTC)),\n",
       "    'expired_at': None,\n",
       "    'expires_at': datetime.datetime(2025, 11, 18, 21, 0, tzinfo=TzInfo(UTC)),\n",
       "    'extended_hours': False,\n",
       "    'failed_at': None,\n",
       "    'filled_at': None,\n",
       "    'filled_avg_price': None,\n",
       "    'filled_qty': '0',\n",
       "    'hwm': None,\n",
       "    'id': UUID('993aeb1a-1b82-478d-96fa-f1620564f09a'),\n",
       "    'legs': None,\n",
       "    'limit_price': None,\n",
       "    'notional': None,\n",
       "    'order_class': <OrderClass.SIMPLE: 'simple'>,\n",
       "    'order_type': <OrderType.MARKET: 'market'>,\n",
       "    'position_intent': <PositionIntent.BUY_TO_OPEN: 'buy_to_open'>,\n",
       "    'qty': '1',\n",
       "    'ratio_qty': None,\n",
       "    'replaced_at': None,\n",
       "    'replaced_by': None,\n",
       "    'replaces': None,\n",
       "    'side': <OrderSide.BUY: 'buy'>,\n",
       "    'status': <OrderStatus.PENDING_NEW: 'pending_new'>,\n",
       "    'stop_price': None,\n",
       "    'submitted_at': datetime.datetime(2025, 8, 21, 0, 32, 9, 254451, tzinfo=TzInfo(UTC)),\n",
       "    'symbol': 'SOL/USD',\n",
       "    'time_in_force': <TimeInForce.GTC: 'gtc'>,\n",
       "    'trail_percent': None,\n",
       "    'trail_price': None,\n",
       "    'type': <OrderType.MARKET: 'market'>,\n",
       "    'updated_at': datetime.datetime(2025, 8, 21, 0, 32, 9, 255742, tzinfo=TzInfo(UTC))}"
      ]
     },
     "execution_count": 3,
     "metadata": {},
     "output_type": "execute_result"
    }
   ],
   "source": [
    "from alpaca.trading.requests import MarketOrderRequest\n",
    "from alpaca.trading.enums import OrderSide, TimeInForce\n",
    "# preparing orders\n",
    "symbol='SOL/USD'\n",
    "market_order_data = MarketOrderRequest(\n",
    "                    symbol=symbol,\n",
    "                    qty=1,\n",
    "                    side=OrderSide.BUY,\n",
    "                    time_in_force=TimeInForce.GTC\n",
    "                    )\n",
    "\n",
    "# Market order\n",
    "market_order = trading_client.submit_order(\n",
    "                order_data=market_order_data\n",
    "               )\n",
    "market_order"
   ]
  },
  {
   "cell_type": "markdown",
   "id": "68648325",
   "metadata": {},
   "source": [
    "### Limit Order"
   ]
  },
  {
   "cell_type": "code",
   "execution_count": 5,
   "id": "96da27bf",
   "metadata": {},
   "outputs": [
    {
     "data": {
      "text/plain": [
       "{   'asset_class': <AssetClass.US_EQUITY: 'us_equity'>,\n",
       "    'asset_id': UUID('8ccae427-5dd0-45b3-b5fe-7ba5e422c766'),\n",
       "    'canceled_at': None,\n",
       "    'client_order_id': '1f487c65-4718-43b9-b98b-e0d6d384ce65',\n",
       "    'created_at': datetime.datetime(2025, 8, 21, 1, 53, 6, 334923, tzinfo=TzInfo(UTC)),\n",
       "    'expired_at': None,\n",
       "    'expires_at': datetime.datetime(2025, 11, 19, 21, 0, tzinfo=TzInfo(UTC)),\n",
       "    'extended_hours': False,\n",
       "    'failed_at': None,\n",
       "    'filled_at': None,\n",
       "    'filled_avg_price': None,\n",
       "    'filled_qty': '0',\n",
       "    'hwm': None,\n",
       "    'id': UUID('e9bd5dae-1119-4c9f-8733-609b48c5a707'),\n",
       "    'legs': None,\n",
       "    'limit_price': '326',\n",
       "    'notional': None,\n",
       "    'order_class': <OrderClass.SIMPLE: 'simple'>,\n",
       "    'order_type': <OrderType.LIMIT: 'limit'>,\n",
       "    'position_intent': <PositionIntent.BUY_TO_OPEN: 'buy_to_open'>,\n",
       "    'qty': '1',\n",
       "    'ratio_qty': None,\n",
       "    'replaced_at': None,\n",
       "    'replaced_by': None,\n",
       "    'replaces': None,\n",
       "    'side': <OrderSide.BUY: 'buy'>,\n",
       "    'status': <OrderStatus.ACCEPTED: 'accepted'>,\n",
       "    'stop_price': None,\n",
       "    'submitted_at': datetime.datetime(2025, 8, 21, 1, 53, 6, 334923, tzinfo=TzInfo(UTC)),\n",
       "    'symbol': 'TSLA',\n",
       "    'time_in_force': <TimeInForce.GTC: 'gtc'>,\n",
       "    'trail_percent': None,\n",
       "    'trail_price': None,\n",
       "    'type': <OrderType.LIMIT: 'limit'>,\n",
       "    'updated_at': datetime.datetime(2025, 8, 21, 1, 53, 6, 336121, tzinfo=TzInfo(UTC))}"
      ]
     },
     "execution_count": 5,
     "metadata": {},
     "output_type": "execute_result"
    }
   ],
   "source": [
    "from alpaca.trading.requests import LimitOrderRequest\n",
    "from alpaca.trading.enums import OrderSide, TimeInForce\n",
    "\n",
    "symbol = \"TSLA\"\n",
    "limit_order_data = LimitOrderRequest(\n",
    "    symbol=symbol,\n",
    "    qty=1,\n",
    "    side=OrderSide.BUY,\n",
    "    time_in_force = TimeInForce.GTC,\n",
    "    limit_price = 326\n",
    ")\n",
    "\n",
    "\n",
    "order=trading_client.submit_order(limit_order_data)\n",
    "order"
   ]
  },
  {
   "cell_type": "markdown",
   "id": "5ccf8b9f",
   "metadata": {},
   "source": [
    "### LImit Order Crypto"
   ]
  },
  {
   "cell_type": "code",
   "execution_count": 7,
   "id": "01c5bc1f",
   "metadata": {},
   "outputs": [
    {
     "data": {
      "text/plain": [
       "{   'asset_class': <AssetClass.CRYPTO: 'crypto'>,\n",
       "    'asset_id': UUID('9226ef75-ba41-4a4b-a1b4-96e1a1b818f0'),\n",
       "    'canceled_at': None,\n",
       "    'client_order_id': '3ca12161-455b-4053-a94a-6ae3259265ac',\n",
       "    'created_at': datetime.datetime(2025, 8, 21, 1, 58, 38, 897784, tzinfo=TzInfo(UTC)),\n",
       "    'expired_at': None,\n",
       "    'expires_at': datetime.datetime(2025, 11, 18, 21, 0, tzinfo=TzInfo(UTC)),\n",
       "    'extended_hours': False,\n",
       "    'failed_at': None,\n",
       "    'filled_at': None,\n",
       "    'filled_avg_price': None,\n",
       "    'filled_qty': '0',\n",
       "    'hwm': None,\n",
       "    'id': UUID('fc4fffdc-f7d7-479a-8140-e3af2b2d82c0'),\n",
       "    'legs': None,\n",
       "    'limit_price': '187.52',\n",
       "    'notional': None,\n",
       "    'order_class': <OrderClass.SIMPLE: 'simple'>,\n",
       "    'order_type': <OrderType.LIMIT: 'limit'>,\n",
       "    'position_intent': <PositionIntent.BUY_TO_OPEN: 'buy_to_open'>,\n",
       "    'qty': '1',\n",
       "    'ratio_qty': None,\n",
       "    'replaced_at': None,\n",
       "    'replaced_by': None,\n",
       "    'replaces': None,\n",
       "    'side': <OrderSide.BUY: 'buy'>,\n",
       "    'status': <OrderStatus.PENDING_NEW: 'pending_new'>,\n",
       "    'stop_price': None,\n",
       "    'submitted_at': datetime.datetime(2025, 8, 21, 1, 58, 38, 897784, tzinfo=TzInfo(UTC)),\n",
       "    'symbol': 'SOL/USD',\n",
       "    'time_in_force': <TimeInForce.GTC: 'gtc'>,\n",
       "    'trail_percent': None,\n",
       "    'trail_price': None,\n",
       "    'type': <OrderType.LIMIT: 'limit'>,\n",
       "    'updated_at': datetime.datetime(2025, 8, 21, 1, 58, 38, 899093, tzinfo=TzInfo(UTC))}"
      ]
     },
     "execution_count": 7,
     "metadata": {},
     "output_type": "execute_result"
    }
   ],
   "source": [
    "from alpaca.trading.requests import LimitOrderRequest\n",
    "from alpaca.trading.enums import OrderSide, TimeInForce\n",
    "\n",
    "symbol = \"SOL/USD\"\n",
    "limit_order_data = LimitOrderRequest(\n",
    "    symbol=symbol,\n",
    "    qty=1,\n",
    "    side=OrderSide.BUY,\n",
    "    time_in_force = TimeInForce.GTC,\n",
    "    limit_price = 187.52\n",
    ")\n",
    "\n",
    "\n",
    "order=trading_client.submit_order(limit_order_data)\n",
    "order"
   ]
  },
  {
   "cell_type": "code",
   "execution_count": null,
   "id": "dd7d6a3d",
   "metadata": {},
   "outputs": [],
   "source": []
  }
 ],
 "metadata": {
  "kernelspec": {
   "display_name": "fesso-algo",
   "language": "python",
   "name": "python3"
  },
  "language_info": {
   "codemirror_mode": {
    "name": "ipython",
    "version": 3
   },
   "file_extension": ".py",
   "mimetype": "text/x-python",
   "name": "python",
   "nbconvert_exporter": "python",
   "pygments_lexer": "ipython3",
   "version": "3.12.3"
  }
 },
 "nbformat": 4,
 "nbformat_minor": 5
}
